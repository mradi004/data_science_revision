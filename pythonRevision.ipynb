{
  "nbformat": 4,
  "nbformat_minor": 0,
  "metadata": {
    "colab": {
      "provenance": [],
      "authorship_tag": "ABX9TyNnMRI4UglEzrhyZCPLroD4",
      "include_colab_link": true
    },
    "kernelspec": {
      "name": "python3",
      "display_name": "Python 3"
    },
    "language_info": {
      "name": "python"
    }
  },
  "cells": [
    {
      "cell_type": "markdown",
      "metadata": {
        "id": "view-in-github",
        "colab_type": "text"
      },
      "source": [
        "<a href=\"https://colab.research.google.com/github/mradi004/data_science/blob/main/pythonRevision.ipynb\" target=\"_parent\"><img src=\"https://colab.research.google.com/assets/colab-badge.svg\" alt=\"Open In Colab\"/></a>"
      ]
    },
    {
      "cell_type": "code",
      "execution_count": null,
      "metadata": {
        "colab": {
          "base_uri": "https://localhost:8080/"
        },
        "id": "1l-y6RDmxNZt",
        "outputId": "5813d13f-1dd0-4e0e-9e84-35cabe2cc081"
      },
      "outputs": [
        {
          "output_type": "stream",
          "name": "stdout",
          "text": [
            "hello world\n"
          ]
        }
      ],
      "source": [
        "print(\"hello world\")"
      ]
    },
    {
      "cell_type": "code",
      "source": [
        "def test3():\n",
        "  a,b=0,1\n",
        "  while True:\n",
        "    yield a\n",
        "    a,b = b,a+b\n",
        "\n",
        "fib=test3()\n",
        "for i in range(10):\n",
        "  print(next(fib))"
      ],
      "metadata": {
        "colab": {
          "base_uri": "https://localhost:8080/"
        },
        "id": "u3DzgGR9xoCz",
        "outputId": "d9320292-73ce-466e-8260-0a8808a50cb2"
      },
      "execution_count": null,
      "outputs": [
        {
          "output_type": "stream",
          "name": "stdout",
          "text": [
            "0\n",
            "1\n",
            "1\n",
            "2\n",
            "3\n",
            "5\n",
            "8\n",
            "13\n",
            "21\n",
            "34\n"
          ]
        }
      ]
    },
    {
      "cell_type": "markdown",
      "source": [
        "# Lambda Function"
      ],
      "metadata": {
        "id": "GoYrnqzWnAWD"
      }
    },
    {
      "cell_type": "code",
      "source": [
        "lst=[1,2,3,4,5,6,7,8]\n",
        "lst1=list(map(lambda x : x**2,lst))\n",
        "print(lst1)"
      ],
      "metadata": {
        "id": "j76PLJVixpXd",
        "colab": {
          "base_uri": "https://localhost:8080/"
        },
        "outputId": "541e033f-8ec2-425f-d971-1d853721174d"
      },
      "execution_count": null,
      "outputs": [
        {
          "output_type": "stream",
          "name": "stdout",
          "text": [
            "[1, 4, 9, 16, 25, 36, 49, 64]\n"
          ]
        }
      ]
    },
    {
      "cell_type": "code",
      "source": [
        "a= lambda n,p : n*p\n",
        "print(a(3,2))"
      ],
      "metadata": {
        "colab": {
          "base_uri": "https://localhost:8080/"
        },
        "id": "zMwtbJ7YnH_h",
        "outputId": "ea0f4097-dfab-4bd7-d77f-3047cc8570f1"
      },
      "execution_count": null,
      "outputs": [
        {
          "output_type": "stream",
          "name": "stdout",
          "text": [
            "6\n"
          ]
        }
      ]
    },
    {
      "cell_type": "code",
      "source": [
        "c_to_f=lambda c : (9/5)*c+32"
      ],
      "metadata": {
        "id": "griu_e9YolJ6"
      },
      "execution_count": null,
      "outputs": []
    },
    {
      "cell_type": "code",
      "source": [
        "c_to_f(45)"
      ],
      "metadata": {
        "colab": {
          "base_uri": "https://localhost:8080/"
        },
        "id": "QpCpIRJootY0",
        "outputId": "06e9de4b-d9d1-41f8-f1b1-524ab90b46bb"
      },
      "execution_count": null,
      "outputs": [
        {
          "output_type": "execute_result",
          "data": {
            "text/plain": [
              "113.0"
            ]
          },
          "metadata": {},
          "execution_count": 6
        }
      ]
    },
    {
      "cell_type": "code",
      "source": [
        "finding_max=lambda x,y:x if x>y else y"
      ],
      "metadata": {
        "id": "lGtl3irto4hA"
      },
      "execution_count": null,
      "outputs": []
    },
    {
      "cell_type": "code",
      "source": [
        "finding_max(20,1)"
      ],
      "metadata": {
        "colab": {
          "base_uri": "https://localhost:8080/"
        },
        "id": "4BB1XjJMpA7F",
        "outputId": "4c31287a-0dc0-45c4-82cf-f59a4aa07097"
      },
      "execution_count": null,
      "outputs": [
        {
          "output_type": "execute_result",
          "data": {
            "text/plain": [
              "20"
            ]
          },
          "metadata": {},
          "execution_count": 8
        }
      ]
    },
    {
      "cell_type": "markdown",
      "source": [
        "# Map , Reduce and Filter functions\n"
      ],
      "metadata": {
        "id": "UwN8TTMCpa-k"
      }
    },
    {
      "cell_type": "code",
      "source": [
        "l=[2,3,4,5,6]\n",
        "def add(x,y):\n",
        "  return x+y"
      ],
      "metadata": {
        "id": "qfgTplj7piwy"
      },
      "execution_count": null,
      "outputs": []
    },
    {
      "cell_type": "code",
      "source": [
        "l1=[1,2,3,4,5,6,7]\n",
        "l2=[2,4,5,6,3,8,9]\n",
        "list(map(add,l1,l2))"
      ],
      "metadata": {
        "colab": {
          "base_uri": "https://localhost:8080/"
        },
        "id": "HWN_05XLsEcQ",
        "outputId": "7ae99efe-df5b-41f3-d582-15e64acb9f96"
      },
      "execution_count": null,
      "outputs": [
        {
          "output_type": "execute_result",
          "data": {
            "text/plain": [
              "[3, 6, 8, 10, 8, 14, 16]"
            ]
          },
          "metadata": {},
          "execution_count": 13
        }
      ]
    },
    {
      "cell_type": "code",
      "source": [
        "from functools import reduce\n",
        "l=[1,2,3,4,5,6,7]\n",
        "result=reduce(lambda x,y:x+y,l)\n",
        "print(result)"
      ],
      "metadata": {
        "colab": {
          "base_uri": "https://localhost:8080/"
        },
        "id": "esyvA1vStdzk",
        "outputId": "39643d66-7513-4953-ed14-5c1b3647d136"
      },
      "execution_count": null,
      "outputs": [
        {
          "output_type": "stream",
          "name": "stdout",
          "text": [
            "28\n"
          ]
        }
      ]
    },
    {
      "cell_type": "markdown",
      "source": [
        "# OOPS"
      ],
      "metadata": {
        "id": "xTuVZ1DTuRmY"
      }
    },
    {
      "cell_type": "code",
      "source": [
        "class test:\n",
        "  def __init__(self,name,marks):\n",
        "    self.name=name\n",
        "    self.marks=marks\n",
        "\n",
        "  def give_marks(self):\n",
        "    print(self.marks)\n",
        "\n",
        "s1=test(\"aditya\",[1,2,3,4,5])\n",
        "s1.give_marks()\n"
      ],
      "metadata": {
        "colab": {
          "base_uri": "https://localhost:8080/"
        },
        "id": "eEIOzUfhuUvh",
        "outputId": "b0bf73d1-3f11-41ff-b23e-4a49cb5a7c60"
      },
      "execution_count": null,
      "outputs": [
        {
          "output_type": "stream",
          "name": "stdout",
          "text": [
            "[1, 2, 3, 4, 5]\n"
          ]
        }
      ]
    },
    {
      "cell_type": "code",
      "source": [
        "#polymorphism\n",
        "\n",
        "def test(a,b):\n",
        "  return a+b"
      ],
      "metadata": {
        "id": "UImcVSdF1rq8"
      },
      "execution_count": null,
      "outputs": []
    },
    {
      "cell_type": "code",
      "source": [
        "test(3,4)"
      ],
      "metadata": {
        "colab": {
          "base_uri": "https://localhost:8080/"
        },
        "id": "TX44N9vc1-uJ",
        "outputId": "300735a7-030c-4040-8bbf-100a5bd85ff9"
      },
      "execution_count": null,
      "outputs": [
        {
          "output_type": "execute_result",
          "data": {
            "text/plain": [
              "7"
            ]
          },
          "metadata": {},
          "execution_count": 20
        }
      ]
    },
    {
      "cell_type": "code",
      "source": [
        "test(\"sudh\",\"mish\")"
      ],
      "metadata": {
        "colab": {
          "base_uri": "https://localhost:8080/",
          "height": 35
        },
        "id": "wN0QxaNA2Ei7",
        "outputId": "e746fc9d-2182-4d39-88f1-f120263abdf0"
      },
      "execution_count": null,
      "outputs": [
        {
          "output_type": "execute_result",
          "data": {
            "text/plain": [
              "'sudhmish'"
            ],
            "application/vnd.google.colaboratory.intrinsic+json": {
              "type": "string"
            }
          },
          "metadata": {},
          "execution_count": 22
        }
      ]
    },
    {
      "cell_type": "code",
      "source": [
        "class datascience:\n",
        "  def syllabus(Self):\n",
        "    print(\"this is my syllabus for data science master\")\n"
      ],
      "metadata": {
        "id": "J97bzf0J2lVd"
      },
      "execution_count": null,
      "outputs": []
    },
    {
      "cell_type": "code",
      "source": [
        "class web_dev:\n",
        "  def syllabus(Self):\n",
        "    print(\"this is my syllabus for web_dev\")"
      ],
      "metadata": {
        "id": "Sap68tP92v6s"
      },
      "execution_count": null,
      "outputs": []
    },
    {
      "cell_type": "code",
      "source": [
        "def class_parser(class_obj):\n",
        "  for i in class_obj:\n",
        "    i.syllabus()"
      ],
      "metadata": {
        "id": "tpkg302v25GX"
      },
      "execution_count": null,
      "outputs": []
    },
    {
      "cell_type": "code",
      "source": [
        "data=datascience()\n",
        "web=web_dev()\n",
        "class_object=[data,web]"
      ],
      "metadata": {
        "id": "Kg1UizVM3Ky7"
      },
      "execution_count": null,
      "outputs": []
    },
    {
      "cell_type": "code",
      "source": [
        "class_parser(class_object)"
      ],
      "metadata": {
        "colab": {
          "base_uri": "https://localhost:8080/"
        },
        "id": "ykIWnV0n3Vcx",
        "outputId": "8a5a3fb3-af02-4f0f-cc68-1fe3d59294b4"
      },
      "execution_count": null,
      "outputs": [
        {
          "output_type": "stream",
          "name": "stdout",
          "text": [
            "this is my syllabus for data science master\n",
            "this is my syllabus for web_dev\n"
          ]
        }
      ]
    },
    {
      "cell_type": "markdown",
      "source": [
        "# Encapsulation"
      ],
      "metadata": {
        "id": "OVXYtMiO4ZrV"
      }
    },
    {
      "cell_type": "code",
      "source": [
        "class test:\n",
        "  def __init__(self,a,b):\n",
        "    self.a=a\n",
        "    self.b=b"
      ],
      "metadata": {
        "id": "r1izZNAM4dsw"
      },
      "execution_count": null,
      "outputs": []
    },
    {
      "cell_type": "code",
      "source": [
        "t=test(3,4)\n",
        "t.a=5"
      ],
      "metadata": {
        "id": "b62r88734o42"
      },
      "execution_count": null,
      "outputs": []
    },
    {
      "cell_type": "code",
      "source": [
        "class car:\n",
        "  def __init__(self,year,make,model,speed):\n",
        "    self.__year = year\n",
        "    self.__make=make\n",
        "    self.__model=model\n",
        "    self.__speed=speed\n",
        "\n",
        "  def set_year(self,speed):\n",
        "    self.__speed = 0 if speed <0 else speed\n",
        "\n",
        "  def get_year(self):\n",
        "    print(self.__speed)\n"
      ],
      "metadata": {
        "id": "-H23SYxz5KQh"
      },
      "execution_count": null,
      "outputs": []
    },
    {
      "cell_type": "code",
      "source": [
        "c= car(2020,\"hyundai\",\"amaze\",78)"
      ],
      "metadata": {
        "id": "5pWxIqt35esV"
      },
      "execution_count": null,
      "outputs": []
    },
    {
      "cell_type": "code",
      "source": [
        "c._car__year\n",
        "c.set_year(98)\n",
        "c.get_year()\n"
      ],
      "metadata": {
        "colab": {
          "base_uri": "https://localhost:8080/"
        },
        "id": "1qbr8zJf5onS",
        "outputId": "3573c237-c6ad-44bc-8df3-3bfca2495980"
      },
      "execution_count": null,
      "outputs": [
        {
          "output_type": "stream",
          "name": "stdout",
          "text": [
            "98\n"
          ]
        }
      ]
    },
    {
      "cell_type": "markdown",
      "source": [
        "# Inheritance"
      ],
      "metadata": {
        "id": "FSAJk5H68_0W"
      }
    },
    {
      "cell_type": "code",
      "source": [
        "class test4:\n",
        "  def test_math(self):\n",
        "    return \"this is my first class\""
      ],
      "metadata": {
        "id": "iWKyTwgE9C1n"
      },
      "execution_count": null,
      "outputs": []
    },
    {
      "cell_type": "code",
      "source": [
        "class child(test4):\n",
        "  pass\n"
      ],
      "metadata": {
        "id": "5ecClfJg9lNl"
      },
      "execution_count": null,
      "outputs": []
    },
    {
      "cell_type": "code",
      "source": [
        "chld=child()\n",
        "chld.test_math()"
      ],
      "metadata": {
        "colab": {
          "base_uri": "https://localhost:8080/",
          "height": 35
        },
        "id": "2oX60LB59smE",
        "outputId": "af586cfa-3cea-40f1-f17e-ca093718a97e"
      },
      "execution_count": null,
      "outputs": [
        {
          "output_type": "execute_result",
          "data": {
            "text/plain": [
              "'this is my first class'"
            ],
            "application/vnd.google.colaboratory.intrinsic+json": {
              "type": "string"
            }
          },
          "metadata": {},
          "execution_count": 52
        }
      ]
    },
    {
      "cell_type": "markdown",
      "source": [
        "# ABSTRACTION"
      ],
      "metadata": {
        "id": "JJ7oewwNC6wZ"
      }
    },
    {
      "cell_type": "code",
      "source": [
        "from abc import abstractmethod\n",
        "class pwskills5:\n",
        "  @abstractmethod\n",
        "  def students_details(self):\n",
        "    pass\n",
        "  @abstractmethod\n",
        "  def student_assignment(Self):\n",
        "    pass\n",
        "  @abstractmethod\n",
        "  def student_marks(self):\n",
        "    pass"
      ],
      "metadata": {
        "id": "urzbL-kuDAlZ"
      },
      "execution_count": null,
      "outputs": []
    },
    {
      "cell_type": "code",
      "source": [
        "class aadi(pwskills5):\n",
        "  def students_details(self):\n",
        "    return super().students_details()"
      ],
      "metadata": {
        "id": "qtxScpYJD9uu"
      },
      "execution_count": null,
      "outputs": []
    },
    {
      "cell_type": "markdown",
      "source": [
        "# Decorators"
      ],
      "metadata": {
        "id": "AlDWQH2lH5jT"
      }
    },
    {
      "cell_type": "code",
      "source": [
        "def test2():\n",
        "  print(\"anything\")\n",
        "  print(\"everything\")\n",
        "  print(\"nothing\")\n"
      ],
      "metadata": {
        "id": "_fdIrQSWH9uz"
      },
      "execution_count": null,
      "outputs": []
    },
    {
      "cell_type": "code",
      "source": [
        "test2()"
      ],
      "metadata": {
        "colab": {
          "base_uri": "https://localhost:8080/"
        },
        "id": "ylgLnwnWJYd_",
        "outputId": "58070f32-be08-40d8-f57b-fe8eed08c2c6"
      },
      "execution_count": null,
      "outputs": [
        {
          "output_type": "stream",
          "name": "stdout",
          "text": [
            "anything\n",
            "everything\n",
            "nothing\n"
          ]
        }
      ]
    },
    {
      "cell_type": "code",
      "source": [
        "def deco(func):\n",
        "  def inner_deco():\n",
        "    print(\"this is the start of my function\")\n",
        "    func()\n",
        "    print(\"this is the end of my function\")\n",
        "  return inner_deco"
      ],
      "metadata": {
        "id": "W418CXyzJhdh"
      },
      "execution_count": null,
      "outputs": []
    },
    {
      "cell_type": "code",
      "source": [
        "@deco\n",
        "def test8():\n",
        "  print(6+7)"
      ],
      "metadata": {
        "id": "ZMwzmuj8Jyqr"
      },
      "execution_count": null,
      "outputs": []
    },
    {
      "cell_type": "code",
      "source": [
        "test8()"
      ],
      "metadata": {
        "colab": {
          "base_uri": "https://localhost:8080/"
        },
        "id": "4L0konYlKBPB",
        "outputId": "49077d4c-7eae-4dea-b8ad-b2d875e5d27f"
      },
      "execution_count": null,
      "outputs": [
        {
          "output_type": "stream",
          "name": "stdout",
          "text": [
            "this is the start of my function\n",
            "13\n",
            "this is the end of my function\n"
          ]
        }
      ]
    },
    {
      "cell_type": "code",
      "source": [
        "import time\n",
        "def timer_test(func):\n",
        "  def inner_timer():\n",
        "    start=time.time()\n",
        "    result = func() # Store the result of the decorated function\n",
        "    end=time.time()\n",
        "    print(f\"Time taken: {end-start}\") # Print the time taken\n",
        "    return result # Return the result of the decorated function\n",
        "  return inner_timer # Return the inner function"
      ],
      "metadata": {
        "id": "kz-EIwuDKWwn"
      },
      "execution_count": null,
      "outputs": []
    },
    {
      "cell_type": "code",
      "source": [
        "@timer_test\n",
        "def test9():\n",
        "  return 9-8"
      ],
      "metadata": {
        "id": "idxBYAufKvhO"
      },
      "execution_count": null,
      "outputs": []
    },
    {
      "cell_type": "code",
      "source": [
        "test9()"
      ],
      "metadata": {
        "colab": {
          "base_uri": "https://localhost:8080/"
        },
        "id": "kpW_onu0K3Aj",
        "outputId": "b8bbf576-e683-400c-a658-f5e05a1edc30"
      },
      "execution_count": null,
      "outputs": [
        {
          "output_type": "stream",
          "name": "stdout",
          "text": [
            "Time taken: 7.152557373046875e-07\n"
          ]
        },
        {
          "output_type": "execute_result",
          "data": {
            "text/plain": [
              "1"
            ]
          },
          "metadata": {},
          "execution_count": 70
        }
      ]
    },
    {
      "cell_type": "markdown",
      "source": [
        "# class methods"
      ],
      "metadata": {
        "id": "MFYYwwiPxc4o"
      }
    },
    {
      "cell_type": "code",
      "source": [
        "class cls_methods:\n",
        "  def __init__(self,name,email):\n",
        "    self.name=name\n",
        "    self.email=email\n",
        "\n",
        "  @classmethod\n",
        "  def details(cls,name,email):\n",
        "    return cls(name,email)\n",
        "\n",
        "  @classmethod\n",
        "  def change_name(cls,name):\n",
        "    cls.name=name\n",
        "\n",
        "  @classmethod\n",
        "  def change_mail(cls,mail):\n",
        "    cls.email=mail\n",
        "\n",
        "  def student_details(self):\n",
        "    print(self.name,self.email)"
      ],
      "metadata": {
        "id": "kvdUMXX4xter"
      },
      "execution_count": null,
      "outputs": []
    },
    {
      "cell_type": "code",
      "source": [
        "cls_methods.details(\"aditya\",\"kashyapadi@gmail.com\")"
      ],
      "metadata": {
        "colab": {
          "base_uri": "https://localhost:8080/"
        },
        "id": "hCQwN7Rux0LF",
        "outputId": "8f7b3b2b-4432-4c61-fbab-fd44c57fb0bf"
      },
      "execution_count": null,
      "outputs": [
        {
          "output_type": "execute_result",
          "data": {
            "text/plain": [
              "<__main__.cls_methods at 0x7eae08d2c510>"
            ]
          },
          "metadata": {},
          "execution_count": 5
        }
      ]
    },
    {
      "cell_type": "code",
      "source": [
        "pw=cls_methods(\"aditya\",\"salempur\")"
      ],
      "metadata": {
        "id": "VoFrocvn1CsK"
      },
      "execution_count": null,
      "outputs": []
    },
    {
      "cell_type": "code",
      "source": [
        "class pwskills2:\n",
        "  mobile_num=467848484\n",
        "\n",
        "  def __init__(self,name,email):\n",
        "    self.name=name\n",
        "    self.email=email\n",
        "\n",
        "  @classmethod\n",
        "  def change_number(cls,mobile):\n",
        "    cls.mobile_num=mobile\n",
        "\n",
        "  @classmethod\n",
        "  def details(cls,name,email):\n",
        "    return cls(name,email)\n",
        "\n",
        "\n",
        "  def show_details(self):\n",
        "    print(self.name,self.email,pwskills2.mobile_num)"
      ],
      "metadata": {
        "id": "lbRdJmBN3LPP"
      },
      "execution_count": null,
      "outputs": []
    },
    {
      "cell_type": "code",
      "source": [
        "pwskills2.change_number(99999999999)\n",
        "print(pwskills2.mobile_num)"
      ],
      "metadata": {
        "colab": {
          "base_uri": "https://localhost:8080/"
        },
        "id": "4eL9Abji4n-2",
        "outputId": "de29e63b-68be-4b4b-c1f6-a5473ea2a49d"
      },
      "execution_count": null,
      "outputs": [
        {
          "output_type": "stream",
          "name": "stdout",
          "text": [
            "99999999999\n"
          ]
        }
      ]
    },
    {
      "cell_type": "code",
      "source": [
        "pw2=pwskills2(\"aditya\",\"kashyapadi@gmail.com\")"
      ],
      "metadata": {
        "id": "JlWMd3nH42Og"
      },
      "execution_count": null,
      "outputs": []
    },
    {
      "cell_type": "code",
      "source": [
        "pw2.show_details()"
      ],
      "metadata": {
        "colab": {
          "base_uri": "https://localhost:8080/"
        },
        "id": "DxYWGZ4Y48gQ",
        "outputId": "c937a63a-f2b6-40ad-b6f6-a5e75f159add"
      },
      "execution_count": null,
      "outputs": [
        {
          "output_type": "stream",
          "name": "stdout",
          "text": [
            "aditya kashyapadi@gmail.com 99999999999\n"
          ]
        }
      ]
    },
    {
      "cell_type": "code",
      "source": [
        "class pwskills3:\n",
        "  mobile_num=467848484\n",
        "\n",
        "  def __init__(self,name,email):\n",
        "    self.name=name\n",
        "    self.email=email\n",
        "\n",
        "  @classmethod\n",
        "  def change_number(cls,mobile):\n",
        "    cls.mobile_num=mobile\n",
        "\n",
        "  @classmethod\n",
        "  def details(cls,name,email):\n",
        "    return cls(name,email)\n",
        "\n",
        "\n",
        "  def show_details(self):\n",
        "    print(self.name,self.email,pwskills3.mobile_num)"
      ],
      "metadata": {
        "id": "VUpXbYy05aAB"
      },
      "execution_count": null,
      "outputs": []
    },
    {
      "cell_type": "code",
      "source": [
        "def course_details(cls,course_name):\n",
        "  print(\"course name is\",course_name)\n",
        "\n",
        "\n",
        "#outsider yaa external function ko class method banane ka tarika\n",
        "\n",
        "pwskills3.course_details=classmethod(course_details)\n"
      ],
      "metadata": {
        "id": "PnmNkb6z5vZX"
      },
      "execution_count": null,
      "outputs": []
    },
    {
      "cell_type": "code",
      "source": [
        "pwskills3.course_details(\"data science\")"
      ],
      "metadata": {
        "colab": {
          "base_uri": "https://localhost:8080/"
        },
        "id": "gJxNCDyg6Nce",
        "outputId": "2e737f95-9c32-4a99-c394-36a74d55b6a1"
      },
      "execution_count": null,
      "outputs": [
        {
          "output_type": "stream",
          "name": "stdout",
          "text": [
            "course name is data science\n"
          ]
        }
      ]
    },
    {
      "cell_type": "code",
      "source": [
        "def mentor(cls,list_of_mentor):\n",
        "  print(list_of_mentor)\n",
        "\n",
        "pwskills3.mentor=classmethod(mentor)"
      ],
      "metadata": {
        "id": "4oxYedWh6xR8"
      },
      "execution_count": null,
      "outputs": []
    },
    {
      "cell_type": "code",
      "source": [
        "pwskills3.mentor([\"Aditya\",\"krish\",\"sudh\"])"
      ],
      "metadata": {
        "colab": {
          "base_uri": "https://localhost:8080/"
        },
        "id": "5-IuubwX6zAp",
        "outputId": "4cdb78bf-3f02-4669-ce69-d442e215839e"
      },
      "execution_count": null,
      "outputs": [
        {
          "output_type": "stream",
          "name": "stdout",
          "text": [
            "['Aditya', 'krish', 'sudh']\n"
          ]
        }
      ]
    },
    {
      "cell_type": "code",
      "source": [
        "class pwskills4:\n",
        "  mobile_num=467848484\n",
        "\n",
        "  def __init__(self,name,email):\n",
        "    self.name=name\n",
        "    self.email=email\n",
        "\n",
        "  @classmethod\n",
        "  def change_number(cls,mobile):\n",
        "    cls.mobile_num=mobile\n",
        "\n",
        "  @classmethod\n",
        "  def details(cls,name,email):\n",
        "    return cls(name,email)\n",
        "\n",
        "\n",
        "  def show_details(self):\n",
        "    print(self.name,self.email,pwskills4.mobile_num)"
      ],
      "metadata": {
        "id": "EmttMWR97MzM"
      },
      "execution_count": null,
      "outputs": []
    },
    {
      "cell_type": "code",
      "source": [
        "del pwskills4.change_number"
      ],
      "metadata": {
        "id": "0LI9_oiV7SfH"
      },
      "execution_count": null,
      "outputs": []
    },
    {
      "cell_type": "code",
      "source": [
        "pwskills4.change_number(99999999999)"
      ],
      "metadata": {
        "colab": {
          "base_uri": "https://localhost:8080/",
          "height": 141
        },
        "id": "05dnbGhb7dI5",
        "outputId": "daabb1e1-9069-4277-a81b-416651fbb096"
      },
      "execution_count": null,
      "outputs": [
        {
          "output_type": "error",
          "ename": "AttributeError",
          "evalue": "type object 'pwskills4' has no attribute 'change_number'",
          "traceback": [
            "\u001b[0;31m---------------------------------------------------------------------------\u001b[0m",
            "\u001b[0;31mAttributeError\u001b[0m                            Traceback (most recent call last)",
            "\u001b[0;32m/tmp/ipython-input-36-536359364.py\u001b[0m in \u001b[0;36m<cell line: 0>\u001b[0;34m()\u001b[0m\n\u001b[0;32m----> 1\u001b[0;31m \u001b[0mpwskills4\u001b[0m\u001b[0;34m.\u001b[0m\u001b[0mchange_number\u001b[0m\u001b[0;34m(\u001b[0m\u001b[0;36m99999999999\u001b[0m\u001b[0;34m)\u001b[0m\u001b[0;34m\u001b[0m\u001b[0;34m\u001b[0m\u001b[0m\n\u001b[0m",
            "\u001b[0;31mAttributeError\u001b[0m: type object 'pwskills4' has no attribute 'change_number'"
          ]
        }
      ]
    },
    {
      "cell_type": "code",
      "source": [
        "#deleting\n",
        "delattr(pwskills4,\"details\")"
      ],
      "metadata": {
        "id": "pOY_Gsl77kPO"
      },
      "execution_count": null,
      "outputs": []
    },
    {
      "cell_type": "code",
      "source": [
        "pwskills4.details"
      ],
      "metadata": {
        "colab": {
          "base_uri": "https://localhost:8080/",
          "height": 141
        },
        "id": "Ch42zDZK7xLJ",
        "outputId": "d1b6faad-8fa8-46d7-d2f1-bad5862b0aef"
      },
      "execution_count": null,
      "outputs": [
        {
          "output_type": "error",
          "ename": "AttributeError",
          "evalue": "type object 'pwskills4' has no attribute 'details'",
          "traceback": [
            "\u001b[0;31m---------------------------------------------------------------------------\u001b[0m",
            "\u001b[0;31mAttributeError\u001b[0m                            Traceback (most recent call last)",
            "\u001b[0;32m/tmp/ipython-input-38-700690114.py\u001b[0m in \u001b[0;36m<cell line: 0>\u001b[0;34m()\u001b[0m\n\u001b[0;32m----> 1\u001b[0;31m \u001b[0mpwskills4\u001b[0m\u001b[0;34m.\u001b[0m\u001b[0mdetails\u001b[0m\u001b[0;34m\u001b[0m\u001b[0;34m\u001b[0m\u001b[0m\n\u001b[0m",
            "\u001b[0;31mAttributeError\u001b[0m: type object 'pwskills4' has no attribute 'details'"
          ]
        }
      ]
    },
    {
      "cell_type": "code",
      "source": [
        "delattr(pwskills4,\"show_details\")"
      ],
      "metadata": {
        "id": "SrE3AKzh71N0"
      },
      "execution_count": null,
      "outputs": []
    },
    {
      "cell_type": "code",
      "source": [
        "pwskills4.show_details"
      ],
      "metadata": {
        "colab": {
          "base_uri": "https://localhost:8080/",
          "height": 141
        },
        "id": "HSLwVe-H799x",
        "outputId": "9a9f7e5c-ed8e-4880-fc86-334fcf5aedf3"
      },
      "execution_count": null,
      "outputs": [
        {
          "output_type": "error",
          "ename": "AttributeError",
          "evalue": "type object 'pwskills4' has no attribute 'show_details'",
          "traceback": [
            "\u001b[0;31m---------------------------------------------------------------------------\u001b[0m",
            "\u001b[0;31mAttributeError\u001b[0m                            Traceback (most recent call last)",
            "\u001b[0;32m/tmp/ipython-input-40-894007361.py\u001b[0m in \u001b[0;36m<cell line: 0>\u001b[0;34m()\u001b[0m\n\u001b[0;32m----> 1\u001b[0;31m \u001b[0mpwskills4\u001b[0m\u001b[0;34m.\u001b[0m\u001b[0mshow_details\u001b[0m\u001b[0;34m\u001b[0m\u001b[0;34m\u001b[0m\u001b[0m\n\u001b[0m",
            "\u001b[0;31mAttributeError\u001b[0m: type object 'pwskills4' has no attribute 'show_details'"
          ]
        }
      ]
    },
    {
      "cell_type": "code",
      "source": [
        "delattr(pwskills4,\"mobile_num\")"
      ],
      "metadata": {
        "id": "5ZAyZyxW8Cuv"
      },
      "execution_count": null,
      "outputs": []
    },
    {
      "cell_type": "code",
      "source": [
        "pwskills4.mobile_num"
      ],
      "metadata": {
        "colab": {
          "base_uri": "https://localhost:8080/",
          "height": 141
        },
        "id": "XKZN8XkV8K34",
        "outputId": "ac3fbb40-1ff8-4537-a190-51e2f7003c4b"
      },
      "execution_count": null,
      "outputs": [
        {
          "output_type": "error",
          "ename": "AttributeError",
          "evalue": "type object 'pwskills4' has no attribute 'mobile_num'",
          "traceback": [
            "\u001b[0;31m---------------------------------------------------------------------------\u001b[0m",
            "\u001b[0;31mAttributeError\u001b[0m                            Traceback (most recent call last)",
            "\u001b[0;32m/tmp/ipython-input-43-4083108311.py\u001b[0m in \u001b[0;36m<cell line: 0>\u001b[0;34m()\u001b[0m\n\u001b[0;32m----> 1\u001b[0;31m \u001b[0mpwskills4\u001b[0m\u001b[0;34m.\u001b[0m\u001b[0mmobile_num\u001b[0m\u001b[0;34m\u001b[0m\u001b[0;34m\u001b[0m\u001b[0m\n\u001b[0m",
            "\u001b[0;31mAttributeError\u001b[0m: type object 'pwskills4' has no attribute 'mobile_num'"
          ]
        }
      ]
    },
    {
      "cell_type": "markdown",
      "source": [
        "# Static Methods"
      ],
      "metadata": {
        "id": "klBq8ae08SlI"
      }
    },
    {
      "cell_type": "code",
      "source": [
        "class library:\n",
        "  def students_details(self,name,mail,number):\n",
        "    print(name,mail,number)"
      ],
      "metadata": {
        "id": "VzclUt368WMx"
      },
      "execution_count": null,
      "outputs": []
    },
    {
      "cell_type": "code",
      "source": [
        "s1=library()\n",
        "s1.students_details(\"aditya\",\"kashyapadi\",999999)"
      ],
      "metadata": {
        "colab": {
          "base_uri": "https://localhost:8080/"
        },
        "id": "5UqLf8Ug8msH",
        "outputId": "d57dec86-65a8-4a63-fe11-053393a90166"
      },
      "execution_count": null,
      "outputs": [
        {
          "output_type": "stream",
          "name": "stdout",
          "text": [
            "aditya kashyapadi 999999\n"
          ]
        }
      ]
    },
    {
      "cell_type": "code",
      "source": [],
      "metadata": {
        "id": "Lv8JmjTc_zv9"
      },
      "execution_count": null,
      "outputs": []
    }
  ]
}