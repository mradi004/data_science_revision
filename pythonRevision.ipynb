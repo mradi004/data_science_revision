{
  "nbformat": 4,
  "nbformat_minor": 0,
  "metadata": {
    "colab": {
      "provenance": [],
      "authorship_tag": "ABX9TyO8Cj5OHvGK4Lp2BE7i4FLG",
      "include_colab_link": true
    },
    "kernelspec": {
      "name": "python3",
      "display_name": "Python 3"
    },
    "language_info": {
      "name": "python"
    }
  },
  "cells": [
    {
      "cell_type": "markdown",
      "metadata": {
        "id": "view-in-github",
        "colab_type": "text"
      },
      "source": [
        "<a href=\"https://colab.research.google.com/github/mradi004/data_science/blob/main/pythonRevision.ipynb\" target=\"_parent\"><img src=\"https://colab.research.google.com/assets/colab-badge.svg\" alt=\"Open In Colab\"/></a>"
      ]
    },
    {
      "cell_type": "code",
      "execution_count": null,
      "metadata": {
        "colab": {
          "base_uri": "https://localhost:8080/"
        },
        "id": "1l-y6RDmxNZt",
        "outputId": "5813d13f-1dd0-4e0e-9e84-35cabe2cc081"
      },
      "outputs": [
        {
          "output_type": "stream",
          "name": "stdout",
          "text": [
            "hello world\n"
          ]
        }
      ],
      "source": [
        "print(\"hello world\")"
      ]
    },
    {
      "cell_type": "code",
      "source": [
        "def test3():\n",
        "  a,b=0,1\n",
        "  while True:\n",
        "    yield a\n",
        "    a,b = b,a+b\n",
        "\n",
        "fib=test3()\n",
        "for i in range(10):\n",
        "  print(next(fib))"
      ],
      "metadata": {
        "colab": {
          "base_uri": "https://localhost:8080/"
        },
        "id": "u3DzgGR9xoCz",
        "outputId": "d9320292-73ce-466e-8260-0a8808a50cb2"
      },
      "execution_count": null,
      "outputs": [
        {
          "output_type": "stream",
          "name": "stdout",
          "text": [
            "0\n",
            "1\n",
            "1\n",
            "2\n",
            "3\n",
            "5\n",
            "8\n",
            "13\n",
            "21\n",
            "34\n"
          ]
        }
      ]
    },
    {
      "cell_type": "markdown",
      "source": [
        "# Lambda Function"
      ],
      "metadata": {
        "id": "GoYrnqzWnAWD"
      }
    },
    {
      "cell_type": "code",
      "source": [
        "lst=[1,2,3,4,5,6,7,8]\n",
        "lst1=list(map(lambda x : x**2,lst))\n",
        "print(lst1)"
      ],
      "metadata": {
        "id": "j76PLJVixpXd",
        "colab": {
          "base_uri": "https://localhost:8080/"
        },
        "outputId": "541e033f-8ec2-425f-d971-1d853721174d"
      },
      "execution_count": 2,
      "outputs": [
        {
          "output_type": "stream",
          "name": "stdout",
          "text": [
            "[1, 4, 9, 16, 25, 36, 49, 64]\n"
          ]
        }
      ]
    },
    {
      "cell_type": "code",
      "source": [
        "a= lambda n,p : n*p\n",
        "print(a(3,2))"
      ],
      "metadata": {
        "colab": {
          "base_uri": "https://localhost:8080/"
        },
        "id": "zMwtbJ7YnH_h",
        "outputId": "ea0f4097-dfab-4bd7-d77f-3047cc8570f1"
      },
      "execution_count": 3,
      "outputs": [
        {
          "output_type": "stream",
          "name": "stdout",
          "text": [
            "6\n"
          ]
        }
      ]
    },
    {
      "cell_type": "code",
      "source": [
        "c_to_f=lambda c : (9/5)*c+32"
      ],
      "metadata": {
        "id": "griu_e9YolJ6"
      },
      "execution_count": 5,
      "outputs": []
    },
    {
      "cell_type": "code",
      "source": [
        "c_to_f(45)"
      ],
      "metadata": {
        "colab": {
          "base_uri": "https://localhost:8080/"
        },
        "id": "QpCpIRJootY0",
        "outputId": "06e9de4b-d9d1-41f8-f1b1-524ab90b46bb"
      },
      "execution_count": 6,
      "outputs": [
        {
          "output_type": "execute_result",
          "data": {
            "text/plain": [
              "113.0"
            ]
          },
          "metadata": {},
          "execution_count": 6
        }
      ]
    },
    {
      "cell_type": "code",
      "source": [
        "finding_max=lambda x,y:x if x>y else y"
      ],
      "metadata": {
        "id": "lGtl3irto4hA"
      },
      "execution_count": 7,
      "outputs": []
    },
    {
      "cell_type": "code",
      "source": [
        "finding_max(20,1)"
      ],
      "metadata": {
        "colab": {
          "base_uri": "https://localhost:8080/"
        },
        "id": "4BB1XjJMpA7F",
        "outputId": "4c31287a-0dc0-45c4-82cf-f59a4aa07097"
      },
      "execution_count": 8,
      "outputs": [
        {
          "output_type": "execute_result",
          "data": {
            "text/plain": [
              "20"
            ]
          },
          "metadata": {},
          "execution_count": 8
        }
      ]
    },
    {
      "cell_type": "markdown",
      "source": [
        "# Map , Reduce and Filter functions\n"
      ],
      "metadata": {
        "id": "UwN8TTMCpa-k"
      }
    },
    {
      "cell_type": "code",
      "source": [
        "l=[2,3,4,5,6]\n",
        "def add(x,y):\n",
        "  return x+y"
      ],
      "metadata": {
        "id": "qfgTplj7piwy"
      },
      "execution_count": 10,
      "outputs": []
    },
    {
      "cell_type": "code",
      "source": [
        "l1=[1,2,3,4,5,6,7]\n",
        "l2=[2,4,5,6,3,8,9]\n",
        "list(map(add,l1,l2))"
      ],
      "metadata": {
        "colab": {
          "base_uri": "https://localhost:8080/"
        },
        "id": "HWN_05XLsEcQ",
        "outputId": "7ae99efe-df5b-41f3-d582-15e64acb9f96"
      },
      "execution_count": 13,
      "outputs": [
        {
          "output_type": "execute_result",
          "data": {
            "text/plain": [
              "[3, 6, 8, 10, 8, 14, 16]"
            ]
          },
          "metadata": {},
          "execution_count": 13
        }
      ]
    },
    {
      "cell_type": "code",
      "source": [
        "from functools import reduce\n",
        "l=[1,2,3,4,5,6,7]\n",
        "result=reduce(lambda x,y:x+y,l)\n",
        "print(result)"
      ],
      "metadata": {
        "colab": {
          "base_uri": "https://localhost:8080/"
        },
        "id": "esyvA1vStdzk",
        "outputId": "39643d66-7513-4953-ed14-5c1b3647d136"
      },
      "execution_count": 16,
      "outputs": [
        {
          "output_type": "stream",
          "name": "stdout",
          "text": [
            "28\n"
          ]
        }
      ]
    },
    {
      "cell_type": "markdown",
      "source": [
        "# OOPS"
      ],
      "metadata": {
        "id": "xTuVZ1DTuRmY"
      }
    },
    {
      "cell_type": "code",
      "source": [
        "class test:\n",
        "  def __init__(self,name,marks):\n",
        "    self.name=name\n",
        "    self.marks=marks\n",
        "\n",
        "  def give_marks(self):\n",
        "    print(self.marks)\n",
        "\n",
        "s1=test(\"aditya\",[1,2,3,4,5])\n",
        "s1.give_marks()\n"
      ],
      "metadata": {
        "colab": {
          "base_uri": "https://localhost:8080/"
        },
        "id": "eEIOzUfhuUvh",
        "outputId": "b0bf73d1-3f11-41ff-b23e-4a49cb5a7c60"
      },
      "execution_count": 18,
      "outputs": [
        {
          "output_type": "stream",
          "name": "stdout",
          "text": [
            "[1, 2, 3, 4, 5]\n"
          ]
        }
      ]
    },
    {
      "cell_type": "code",
      "source": [
        "#polymorphism\n",
        "\n",
        "def test(a,b):\n",
        "  return a+b"
      ],
      "metadata": {
        "id": "UImcVSdF1rq8"
      },
      "execution_count": 19,
      "outputs": []
    },
    {
      "cell_type": "code",
      "source": [
        "test(3,4)"
      ],
      "metadata": {
        "colab": {
          "base_uri": "https://localhost:8080/"
        },
        "id": "TX44N9vc1-uJ",
        "outputId": "300735a7-030c-4040-8bbf-100a5bd85ff9"
      },
      "execution_count": 20,
      "outputs": [
        {
          "output_type": "execute_result",
          "data": {
            "text/plain": [
              "7"
            ]
          },
          "metadata": {},
          "execution_count": 20
        }
      ]
    },
    {
      "cell_type": "code",
      "source": [
        "test(\"sudh\",\"mish\")"
      ],
      "metadata": {
        "colab": {
          "base_uri": "https://localhost:8080/",
          "height": 35
        },
        "id": "wN0QxaNA2Ei7",
        "outputId": "e746fc9d-2182-4d39-88f1-f120263abdf0"
      },
      "execution_count": 22,
      "outputs": [
        {
          "output_type": "execute_result",
          "data": {
            "text/plain": [
              "'sudhmish'"
            ],
            "application/vnd.google.colaboratory.intrinsic+json": {
              "type": "string"
            }
          },
          "metadata": {},
          "execution_count": 22
        }
      ]
    },
    {
      "cell_type": "code",
      "source": [
        "class datascience:\n",
        "  def syllabus(Self):\n",
        "    print(\"this is my syllabus for data science master\")\n",
        ""
      ],
      "metadata": {
        "id": "J97bzf0J2lVd"
      },
      "execution_count": 23,
      "outputs": []
    },
    {
      "cell_type": "code",
      "source": [
        "class web_dev:\n",
        "  def syllabus(Self):\n",
        "    print(\"this is my syllabus for web_dev\")"
      ],
      "metadata": {
        "id": "Sap68tP92v6s"
      },
      "execution_count": 24,
      "outputs": []
    },
    {
      "cell_type": "code",
      "source": [
        "def class_parser(class_obj):\n",
        "  for i in class_obj:\n",
        "    i.syllabus()"
      ],
      "metadata": {
        "id": "tpkg302v25GX"
      },
      "execution_count": 27,
      "outputs": []
    },
    {
      "cell_type": "code",
      "source": [
        "data=datascience()\n",
        "web=web_dev()\n",
        "class_object=[data,web]"
      ],
      "metadata": {
        "id": "Kg1UizVM3Ky7"
      },
      "execution_count": 28,
      "outputs": []
    },
    {
      "cell_type": "code",
      "source": [
        "class_parser(class_object)"
      ],
      "metadata": {
        "colab": {
          "base_uri": "https://localhost:8080/"
        },
        "id": "ykIWnV0n3Vcx",
        "outputId": "8a5a3fb3-af02-4f0f-cc68-1fe3d59294b4"
      },
      "execution_count": 29,
      "outputs": [
        {
          "output_type": "stream",
          "name": "stdout",
          "text": [
            "this is my syllabus for data science master\n",
            "this is my syllabus for web_dev\n"
          ]
        }
      ]
    },
    {
      "cell_type": "markdown",
      "source": [
        "# Encapsulation"
      ],
      "metadata": {
        "id": "OVXYtMiO4ZrV"
      }
    },
    {
      "cell_type": "code",
      "source": [
        "class test:\n",
        "  def __init__(self,a,b):\n",
        "    self.a=a\n",
        "    self.b=b"
      ],
      "metadata": {
        "id": "r1izZNAM4dsw"
      },
      "execution_count": 31,
      "outputs": []
    },
    {
      "cell_type": "code",
      "source": [
        "t=test(3,4)\n",
        "t.a=5"
      ],
      "metadata": {
        "id": "b62r88734o42"
      },
      "execution_count": 33,
      "outputs": []
    },
    {
      "cell_type": "code",
      "source": [
        "class car:\n",
        "  def __init__(self,year,make,model,speed):\n",
        "    self.__year = year\n",
        "    self.__make=make\n",
        "    self.__model=model\n",
        "    self.__speed=speed\n",
        "\n",
        "  def set_year(self,speed):\n",
        "    self.__speed = 0 if speed <0 else speed\n",
        "\n",
        "  def get_year(self):\n",
        "    print(self.__speed)\n",
        ""
      ],
      "metadata": {
        "id": "-H23SYxz5KQh"
      },
      "execution_count": 45,
      "outputs": []
    },
    {
      "cell_type": "code",
      "source": [
        "c= car(2020,\"hyundai\",\"amaze\",78)"
      ],
      "metadata": {
        "id": "5pWxIqt35esV"
      },
      "execution_count": 46,
      "outputs": []
    },
    {
      "cell_type": "code",
      "source": [
        "c._car__year\n",
        "c.set_year(98)\n",
        "c.get_year()\n"
      ],
      "metadata": {
        "colab": {
          "base_uri": "https://localhost:8080/"
        },
        "id": "1qbr8zJf5onS",
        "outputId": "3573c237-c6ad-44bc-8df3-3bfca2495980"
      },
      "execution_count": 48,
      "outputs": [
        {
          "output_type": "stream",
          "name": "stdout",
          "text": [
            "98\n"
          ]
        }
      ]
    },
    {
      "cell_type": "markdown",
      "source": [
        "# Inheritance"
      ],
      "metadata": {
        "id": "FSAJk5H68_0W"
      }
    },
    {
      "cell_type": "code",
      "source": [
        "class test4:\n",
        "  def test_math(self):\n",
        "    return \"this is my first class\""
      ],
      "metadata": {
        "id": "iWKyTwgE9C1n"
      },
      "execution_count": 49,
      "outputs": []
    },
    {
      "cell_type": "code",
      "source": [
        "class child(test4):\n",
        "  pass\n"
      ],
      "metadata": {
        "id": "5ecClfJg9lNl"
      },
      "execution_count": 50,
      "outputs": []
    },
    {
      "cell_type": "code",
      "source": [
        "chld=child()\n",
        "chld.test_math()"
      ],
      "metadata": {
        "colab": {
          "base_uri": "https://localhost:8080/",
          "height": 35
        },
        "id": "2oX60LB59smE",
        "outputId": "af586cfa-3cea-40f1-f17e-ca093718a97e"
      },
      "execution_count": 52,
      "outputs": [
        {
          "output_type": "execute_result",
          "data": {
            "text/plain": [
              "'this is my first class'"
            ],
            "application/vnd.google.colaboratory.intrinsic+json": {
              "type": "string"
            }
          },
          "metadata": {},
          "execution_count": 52
        }
      ]
    },
    {
      "cell_type": "markdown",
      "source": [
        "# ABSTRACTION"
      ],
      "metadata": {
        "id": "JJ7oewwNC6wZ"
      }
    },
    {
      "cell_type": "code",
      "source": [
        "from abc import abstractmethod\n",
        "class pwskills5:\n",
        "  @abstractmethod\n",
        "  def students_details(self):\n",
        "    pass\n",
        "  @abstractmethod\n",
        "  def student_assignment(Self):\n",
        "    pass\n",
        "  @abstractmethod\n",
        "  def student_marks(self):\n",
        "    pass"
      ],
      "metadata": {
        "id": "urzbL-kuDAlZ"
      },
      "execution_count": 53,
      "outputs": []
    },
    {
      "cell_type": "code",
      "source": [
        "class aadi(pwskills5):\n",
        "  def students_details(self):\n",
        "    return super().students_details()"
      ],
      "metadata": {
        "id": "qtxScpYJD9uu"
      },
      "execution_count": null,
      "outputs": []
    }
  ]
}