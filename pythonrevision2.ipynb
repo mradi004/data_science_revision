{
  "nbformat": 4,
  "nbformat_minor": 0,
  "metadata": {
    "colab": {
      "provenance": [],
      "authorship_tag": "ABX9TyNeOAAxCAJflUEzZbXdGrfK",
      "include_colab_link": true
    },
    "kernelspec": {
      "name": "python3",
      "display_name": "Python 3"
    },
    "language_info": {
      "name": "python"
    }
  },
  "cells": [
    {
      "cell_type": "markdown",
      "metadata": {
        "id": "view-in-github",
        "colab_type": "text"
      },
      "source": [
        "<a href=\"https://colab.research.google.com/github/mradi004/data_science/blob/main/pythonrevision2.ipynb\" target=\"_parent\"><img src=\"https://colab.research.google.com/assets/colab-badge.svg\" alt=\"Open In Colab\"/></a>"
      ]
    },
    {
      "cell_type": "markdown",
      "source": [
        "# property getter and setter"
      ],
      "metadata": {
        "id": "xxRL6o1VqjPj"
      }
    },
    {
      "cell_type": "code",
      "execution_count": null,
      "metadata": {
        "id": "1NtweBSLqexK"
      },
      "outputs": [],
      "source": [
        "class pwskills:\n",
        "  def __init__(self,course_price,course_name):\n",
        "    self.__course_price=course_price\n",
        "    self.course_name=course_name\n",
        "\n",
        "\n",
        "  @property\n",
        "  def course_price_access(self):\n",
        "    return self.__course_price\n",
        "\n",
        "  @course_price_access.setter\n",
        "  def course_price_set(self,price):\n",
        "    if price<=3500:\n",
        "      pass\n",
        "    else :\n",
        "      self.__course_price = price\n",
        "\n",
        "  @course_price_access.deleter\n",
        "  def delete_course_price(self):\n",
        "    del self.__course_price"
      ]
    },
    {
      "cell_type": "code",
      "source": [
        "pw= pwskills(3500,\"data science masters\")"
      ],
      "metadata": {
        "id": "bhQCVLEXq7Rd"
      },
      "execution_count": null,
      "outputs": []
    },
    {
      "cell_type": "code",
      "source": [
        "pw.course_price_access"
      ],
      "metadata": {
        "colab": {
          "base_uri": "https://localhost:8080/"
        },
        "id": "3Bf20U1rrZ4t",
        "outputId": "c436645c-d9ad-4e09-fe02-ff6a62640e39"
      },
      "execution_count": null,
      "outputs": [
        {
          "output_type": "execute_result",
          "data": {
            "text/plain": [
              "3500"
            ]
          },
          "metadata": {},
          "execution_count": 28
        }
      ]
    },
    {
      "cell_type": "code",
      "source": [
        "pw.course_price_set =4500"
      ],
      "metadata": {
        "id": "9K1L7gP4r-Us"
      },
      "execution_count": null,
      "outputs": []
    },
    {
      "cell_type": "code",
      "source": [
        "pw.course_price_access"
      ],
      "metadata": {
        "colab": {
          "base_uri": "https://localhost:8080/"
        },
        "id": "BpbQhd_XsFDd",
        "outputId": "b8011ee2-9b24-4a51-f1ff-21fc1ed66ccc"
      },
      "execution_count": null,
      "outputs": [
        {
          "output_type": "execute_result",
          "data": {
            "text/plain": [
              "4500"
            ]
          },
          "metadata": {},
          "execution_count": 30
        }
      ]
    },
    {
      "cell_type": "code",
      "source": [
        "pw.course_price_access"
      ],
      "metadata": {
        "colab": {
          "base_uri": "https://localhost:8080/"
        },
        "id": "EW6ZJqhds-nd",
        "outputId": "510b6073-53a4-47ad-a0d5-55f6d6cf3ce0"
      },
      "execution_count": null,
      "outputs": [
        {
          "output_type": "execute_result",
          "data": {
            "text/plain": [
              "4500"
            ]
          },
          "metadata": {},
          "execution_count": 23
        }
      ]
    },
    {
      "cell_type": "code",
      "source": [
        "pw.delete_course_price"
      ],
      "metadata": {
        "colab": {
          "base_uri": "https://localhost:8080/"
        },
        "id": "3Yv1W58DtA45",
        "outputId": "5dcf0a5c-e77e-4943-ebec-fe0c6487d04b"
      },
      "execution_count": null,
      "outputs": [
        {
          "output_type": "execute_result",
          "data": {
            "text/plain": [
              "4500"
            ]
          },
          "metadata": {},
          "execution_count": 33
        }
      ]
    },
    {
      "cell_type": "code",
      "source": [
        "pw.course_price_access"
      ],
      "metadata": {
        "colab": {
          "base_uri": "https://localhost:8080/"
        },
        "id": "JUHbymartESW",
        "outputId": "009e057d-37e8-46be-bac3-995631163417"
      },
      "execution_count": null,
      "outputs": [
        {
          "output_type": "execute_result",
          "data": {
            "text/plain": [
              "4500"
            ]
          },
          "metadata": {},
          "execution_count": 34
        }
      ]
    },
    {
      "cell_type": "markdown",
      "source": [
        "# file handling"
      ],
      "metadata": {
        "id": "YD3HbXG5t7AM"
      }
    },
    {
      "cell_type": "code",
      "source": [
        "import io\n",
        "with open(\"text.txt\",\"wb\") as f:\n",
        "  file=io.BufferedWriter(f)\n",
        "\n",
        "  file.write(b\"this is my first line\\n\")\n",
        "  file.write(b\"this is my second line\")\n",
        "  file.flush()"
      ],
      "metadata": {
        "id": "Tpp_MgQAuABO"
      },
      "execution_count": null,
      "outputs": []
    },
    {
      "cell_type": "code",
      "source": [
        "with open(\"text.txt\",\"rb\") as f:\n",
        "  file=io.BufferedReader(f)\n",
        "  a=file.read()\n",
        "  print(a)"
      ],
      "metadata": {
        "colab": {
          "base_uri": "https://localhost:8080/"
        },
        "id": "KBdxrfWVu8fB",
        "outputId": "b83b3df6-e40a-48f8-8d96-15371e445c81"
      },
      "execution_count": null,
      "outputs": [
        {
          "output_type": "stream",
          "name": "stdout",
          "text": [
            "b'this is my first line\\nthis is my second line'\n"
          ]
        }
      ]
    },
    {
      "cell_type": "markdown",
      "source": [
        "# Logging debugger"
      ],
      "metadata": {
        "id": "I8AWnQalw1tS"
      }
    },
    {
      "cell_type": "code",
      "source": [
        "import logging"
      ],
      "metadata": {
        "id": "GH8o3rWGw5lE"
      },
      "execution_count": null,
      "outputs": []
    },
    {
      "cell_type": "code",
      "source": [
        "logging.basicConfig(filename = \"/content/text.log\" , level = logging.INFO)"
      ],
      "metadata": {
        "id": "pjDcDAwtx192"
      },
      "execution_count": 52,
      "outputs": []
    },
    {
      "cell_type": "code",
      "source": [
        "logging.info(\"this is my first line of execution\")"
      ],
      "metadata": {
        "id": "TIAE6cbJyIlW"
      },
      "execution_count": 53,
      "outputs": []
    },
    {
      "cell_type": "code",
      "metadata": {
        "id": "302c47bf"
      },
      "source": [
        "import logging\n",
        "\n",
        "logging.basicConfig(filename='log.txt', level=logging.INFO)\n",
        "logging.info(\"Log message from Aadi 🚀\")\n",
        "\n"
      ],
      "execution_count": 55,
      "outputs": []
    },
    {
      "cell_type": "code",
      "source": [],
      "metadata": {
        "colab": {
          "base_uri": "https://localhost:8080/",
          "height": 158
        },
        "id": "rXwHGqyO0m-9",
        "outputId": "f54748cb-ba29-4337-e926-1eebce8578da"
      },
      "execution_count": 56,
      "outputs": [
        {
          "output_type": "error",
          "ename": "FileNotFoundError",
          "evalue": "[Errno 2] No such file or directory: 'log.txt'",
          "traceback": [
            "\u001b[0;31m---------------------------------------------------------------------------\u001b[0m",
            "\u001b[0;31mFileNotFoundError\u001b[0m                         Traceback (most recent call last)",
            "\u001b[0;32m/tmp/ipython-input-56-497110006.py\u001b[0m in \u001b[0;36m<cell line: 0>\u001b[0;34m()\u001b[0m\n\u001b[0;32m----> 1\u001b[0;31m \u001b[0;32mwith\u001b[0m \u001b[0mopen\u001b[0m\u001b[0;34m(\u001b[0m\u001b[0;34m'log.txt'\u001b[0m\u001b[0;34m,\u001b[0m \u001b[0;34m'r'\u001b[0m\u001b[0;34m)\u001b[0m \u001b[0;32mas\u001b[0m \u001b[0mf\u001b[0m\u001b[0;34m:\u001b[0m\u001b[0;34m\u001b[0m\u001b[0;34m\u001b[0m\u001b[0m\n\u001b[0m\u001b[1;32m      2\u001b[0m     \u001b[0mprint\u001b[0m\u001b[0;34m(\u001b[0m\u001b[0mf\u001b[0m\u001b[0;34m.\u001b[0m\u001b[0mread\u001b[0m\u001b[0;34m(\u001b[0m\u001b[0;34m)\u001b[0m\u001b[0;34m)\u001b[0m\u001b[0;34m\u001b[0m\u001b[0;34m\u001b[0m\u001b[0m\n",
            "\u001b[0;31mFileNotFoundError\u001b[0m: [Errno 2] No such file or directory: 'log.txt'"
          ]
        }
      ]
    },
    {
      "cell_type": "markdown",
      "source": [
        "# Try and except"
      ],
      "metadata": {
        "id": "ITnSQxjNMl4x"
      }
    },
    {
      "cell_type": "code",
      "source": [
        "f=open(\"text.txt\",\"r\")"
      ],
      "metadata": {
        "id": "CXPq0GsEMr1D"
      },
      "execution_count": 58,
      "outputs": []
    },
    {
      "cell_type": "code",
      "source": [
        "try :\n",
        "  f=open(\"test.txt\",\"r\")\n",
        "except :\n",
        "  print(\"this is my except block\")"
      ],
      "metadata": {
        "colab": {
          "base_uri": "https://localhost:8080/"
        },
        "id": "ddCopsNrNdeo",
        "outputId": "db5cd14c-be8a-4abd-f7dd-447314dbe548"
      },
      "execution_count": 60,
      "outputs": [
        {
          "output_type": "stream",
          "name": "stdout",
          "text": [
            "this is my except block\n"
          ]
        }
      ]
    },
    {
      "cell_type": "markdown",
      "source": [
        "# else"
      ],
      "metadata": {
        "id": "fy6559SHOfKi"
      }
    },
    {
      "cell_type": "code",
      "source": [
        "# try block ke run hone ke baad hi else block ruyn hota hai agr except block run hua hai to  else block run nhi hoga...\n",
        "\n",
        "try :\n",
        "  with open(\"test.txt\",\"w\") as f:\n",
        "    f.write(\"hello my name is aditya\")\n",
        "except:\n",
        "  print(\"the code doesn't run\")\n",
        "\n",
        "else:\n",
        "  print(\"the code executed successfully\")"
      ],
      "metadata": {
        "colab": {
          "base_uri": "https://localhost:8080/"
        },
        "id": "PD5H6VScOhPu",
        "outputId": "828ef090-8ed5-49be-e609-fc033610d560"
      },
      "execution_count": 61,
      "outputs": [
        {
          "output_type": "stream",
          "name": "stdout",
          "text": [
            "the code executed successfully\n"
          ]
        }
      ]
    },
    {
      "cell_type": "code",
      "source": [
        "try:\n",
        "  f=open(\"test2.txt\",\"w\")\n",
        "  f.write(\"write something\")\n",
        "finally:\n",
        "  print(\"it will get executed in any situation\")\n"
      ],
      "metadata": {
        "colab": {
          "base_uri": "https://localhost:8080/"
        },
        "id": "DPjU1RiJPwR5",
        "outputId": "12fc51f9-6af8-43ef-b747-9e4fb10a8042"
      },
      "execution_count": 62,
      "outputs": [
        {
          "output_type": "stream",
          "name": "stdout",
          "text": [
            "it will get executed in any situation\n"
          ]
        }
      ]
    },
    {
      "cell_type": "markdown",
      "source": [
        "#custom exception handling"
      ],
      "metadata": {
        "id": "Hrw9hN6MQge5"
      }
    },
    {
      "cell_type": "code",
      "source": [
        "agr=int(input(\"enter yourt age\"))"
      ],
      "metadata": {
        "colab": {
          "base_uri": "https://localhost:8080/"
        },
        "id": "n2qnVZgPQjob",
        "outputId": "6655f031-ae6f-485b-d5f1-a29d8693737b"
      },
      "execution_count": 63,
      "outputs": [
        {
          "name": "stdout",
          "output_type": "stream",
          "text": [
            "enter yourt age-345\n"
          ]
        }
      ]
    },
    {
      "cell_type": "code",
      "source": [
        "class validate_age(Exception):\n",
        "  def __init__(self,msg):\n",
        "    self.msg=msg\n"
      ],
      "metadata": {
        "id": "s90GQ-RDRMei"
      },
      "execution_count": 64,
      "outputs": []
    },
    {
      "cell_type": "code",
      "source": [
        "def validateage(age):\n",
        "  if age<0:\n",
        "    raise validate_age(\"entered age is negative\")\n",
        "\n",
        "  elif age>200:\n",
        "    raise validate_age(\"enetered age is avery high\")\n",
        "  else:\n",
        "    print(\"age is valid\")"
      ],
      "metadata": {
        "id": "YSOCBJKgRaZs"
      },
      "execution_count": 65,
      "outputs": []
    },
    {
      "cell_type": "code",
      "source": [
        "try:\n",
        "  age =int(input(\"enter the age\"))\n",
        "  validateage(age)\n",
        "except validate_age as e:\n",
        "  print(e)\n"
      ],
      "metadata": {
        "colab": {
          "base_uri": "https://localhost:8080/"
        },
        "id": "gMyiGXrBRzpO",
        "outputId": "a58a13d7-3aa2-4cd7-b429-0b3bb1abc7cb"
      },
      "execution_count": 68,
      "outputs": [
        {
          "output_type": "stream",
          "name": "stdout",
          "text": [
            "enter the age245\n",
            "enetered age is avery high\n"
          ]
        }
      ]
    },
    {
      "cell_type": "code",
      "source": [
        "class NegativeNumberError(Exception):\n",
        "    def __init__(self, value):\n",
        "        self.value = value\n",
        "        self.message = f\"{value} is negative, which is not allowed.\"\n",
        "        super().__init__(self.message)"
      ],
      "metadata": {
        "id": "lTJ72tsFT3U_"
      },
      "execution_count": 69,
      "outputs": []
    },
    {
      "cell_type": "code",
      "source": [
        "try:\n",
        "    num = -10\n",
        "    if num < 0:\n",
        "        raise NegativeNumberError(num)\n",
        "except NegativeNumberError as e:\n",
        "    print(e)"
      ],
      "metadata": {
        "colab": {
          "base_uri": "https://localhost:8080/"
        },
        "id": "dceL8t7hT483",
        "outputId": "bc873068-ef5b-4ea2-d9d8-120ec890127a"
      },
      "execution_count": 70,
      "outputs": [
        {
          "output_type": "stream",
          "name": "stdout",
          "text": [
            "-10 is negative, which is not allowed.\n"
          ]
        }
      ]
    },
    {
      "cell_type": "markdown",
      "source": [
        "#list of general use exception"
      ],
      "metadata": {
        "id": "hqfvfuqxUNjS"
      }
    },
    {
      "cell_type": "code",
      "source": [
        "try:\n",
        "  a=10/0\n",
        "except:\n",
        "  print(\"zero division by error\")"
      ],
      "metadata": {
        "colab": {
          "base_uri": "https://localhost:8080/"
        },
        "id": "0tpY-cvqUQru",
        "outputId": "f3fe67aa-b027-47c1-e1d8-a8673d22319f"
      },
      "execution_count": 71,
      "outputs": [
        {
          "output_type": "stream",
          "name": "stdout",
          "text": [
            "zero division by error\n"
          ]
        }
      ]
    },
    {
      "cell_type": "code",
      "source": [
        "try:\n",
        "  int(\"aadi\")\n",
        "except:\n",
        "  print(\"error\")"
      ],
      "metadata": {
        "colab": {
          "base_uri": "https://localhost:8080/"
        },
        "id": "tO14MsfMUeCL",
        "outputId": "0daf5c6f-dbbb-4c5c-8fd4-7dc4920b8166"
      },
      "execution_count": 72,
      "outputs": [
        {
          "output_type": "stream",
          "name": "stdout",
          "text": [
            "error\n"
          ]
        }
      ]
    },
    {
      "cell_type": "code",
      "source": [
        "try:\n",
        "  int(\"Adi\")\n",
        "except:\n",
        "  print(\"this will cathc an error\")"
      ],
      "metadata": {
        "colab": {
          "base_uri": "https://localhost:8080/"
        },
        "id": "o9vrTkGHUs37",
        "outputId": "bc89df32-ec41-4aee-c0c7-6ddb79455c7c"
      },
      "execution_count": 73,
      "outputs": [
        {
          "output_type": "stream",
          "name": "stdout",
          "text": [
            "this will cathc an error\n"
          ]
        }
      ]
    },
    {
      "cell_type": "code",
      "source": [
        "try:\n",
        "  import aadi\n",
        "except ImportError as e:\n",
        "  print(e)\n"
      ],
      "metadata": {
        "colab": {
          "base_uri": "https://localhost:8080/"
        },
        "id": "ysizdRCxU4I3",
        "outputId": "d099b80a-dc79-452a-c5ec-ba1f77414739"
      },
      "execution_count": 74,
      "outputs": [
        {
          "output_type": "stream",
          "name": "stdout",
          "text": [
            "No module named 'aadi'\n"
          ]
        }
      ]
    },
    {
      "cell_type": "code",
      "source": [
        "try:\n",
        "  lst=[2,3,4,5,6]\n",
        "  print(lst[6])\n",
        "except IndexError as e:\n",
        "  print(e)"
      ],
      "metadata": {
        "colab": {
          "base_uri": "https://localhost:8080/"
        },
        "id": "_HppKbTMVYJx",
        "outputId": "69212d71-c002-4644-b42d-712c5fa2806d"
      },
      "execution_count": 76,
      "outputs": [
        {
          "output_type": "stream",
          "name": "stdout",
          "text": [
            "list index out of range\n"
          ]
        }
      ]
    },
    {
      "cell_type": "code",
      "source": [
        "try:\n",
        "  123 + \"aadi\"\n",
        "except TypeError as e:\n",
        "  print(e)"
      ],
      "metadata": {
        "colab": {
          "base_uri": "https://localhost:8080/"
        },
        "id": "uyUPtURTV0me",
        "outputId": "a84d4fea-b35b-4061-ffe9-6ee7f4f5260b"
      },
      "execution_count": 77,
      "outputs": [
        {
          "output_type": "stream",
          "name": "stdout",
          "text": [
            "unsupported operand type(s) for +: 'int' and 'str'\n"
          ]
        }
      ]
    },
    {
      "cell_type": "markdown",
      "source": [
        "#best practice for exception handling"
      ],
      "metadata": {
        "id": "ScdAbdqBXcsA"
      }
    },
    {
      "cell_type": "code",
      "source": [
        "#use always a specific exception\n",
        "try:\n",
        "  10/0\n",
        "\n",
        "except  ZeroDivisionError as e:\n",
        "  print(e)"
      ],
      "metadata": {
        "colab": {
          "base_uri": "https://localhost:8080/"
        },
        "id": "ZtWDRZbpXfPz",
        "outputId": "fd95dfd1-63eb-4fc5-87e8-b038eb91100d"
      },
      "execution_count": 80,
      "outputs": [
        {
          "output_type": "stream",
          "name": "stdout",
          "text": [
            "division by zero\n"
          ]
        }
      ]
    },
    {
      "cell_type": "code",
      "source": [
        "#always print a proper message\n",
        "try:\n",
        "  10/0\n",
        "except ZeroDivisionError as e:\n",
        "  print(\"i am trying to handle a zerodivision error\",e)"
      ],
      "metadata": {
        "colab": {
          "base_uri": "https://localhost:8080/"
        },
        "id": "oqr43k0vXyWz",
        "outputId": "96a41dee-4811-40ce-da13-f36e30cf1af8"
      },
      "execution_count": 81,
      "outputs": [
        {
          "output_type": "stream",
          "name": "stdout",
          "text": [
            "i am trying to handle a zerodivision error division by zero\n"
          ]
        }
      ]
    },
    {
      "cell_type": "code",
      "source": [
        "#always try to log your error\n",
        "import logging\n",
        "logging.basicConfig(filename=\"test.log\", level=logging.INFO ,format='%(asctime)s ')\n",
        "try:\n",
        "  10/0\n",
        "except ZeroDivisionError as e:\n",
        "  logging.info(\"i am trying to handle a zero division error{}\".format(e))"
      ],
      "metadata": {
        "id": "UdkcTqdqYIt9"
      },
      "execution_count": 84,
      "outputs": []
    },
    {
      "cell_type": "code",
      "source": [
        "#avoid always to write a multiple exception handling\n",
        "try:\n",
        "  10/0\n",
        "except FileNotFoundError as e:\n",
        "  logging.critical(\"this is an erorr{}\".format(e))\n",
        "\n",
        "except ZeroDivisionError as e:\n",
        "  logging.info(\"this is an error{}\".format(e))"
      ],
      "metadata": {
        "id": "2nWe2-pjY_lR"
      },
      "execution_count": 86,
      "outputs": []
    },
    {
      "cell_type": "code",
      "source": [
        "#always try to docuemnt the error\n",
        "#always try to write neat and clean code\n",
        "#cleanup all the resources"
      ],
      "metadata": {
        "id": "9CJGSZsUZg6V"
      },
      "execution_count": null,
      "outputs": []
    }
  ]
}